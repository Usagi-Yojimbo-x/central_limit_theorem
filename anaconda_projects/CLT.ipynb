{
 "cells": [
  {
   "cell_type": "code",
   "execution_count": 35,
   "id": "dd58c168-61e2-4bbf-9bba-92f53a913e11",
   "metadata": {},
   "outputs": [
    {
     "name": "stdout",
     "output_type": "stream",
     "text": [
      "Overwriting clt_dashboard.py\n"
     ]
    }
   ],
   "source": [
    "%%writefile clt_dashboard.py\n",
    "\n",
    "import streamlit as st\n",
    "import numpy as np\n",
    "import matplotlib.pyplot as plt\n",
    "import seaborn as sns\n",
    "\n",
    "st.title(\"Central Limit Theorem (CLT) Dashboard\")\n",
    "\n",
    "st.write(\"As sample size increases, the sampling distribution of the sample mean apporaches normality--even if the population distribution is skewed or non-normal.\")\n",
    "\n",
    "# sidebar\n",
    "population_options = [\"Right Skewed\", \"Left Skewed\", \"Uniform\", \"Normal\"]\n",
    "population_type = st.sidebar.selectbox(\"Choose Population Distribution\", population_options)\n",
    "sample_size = st.sidebar.slider(\"Sample Size (n)\", min_value=1, max_value=100, value=10)\n",
    "num_samples = st.sidebar.slider(\"Number of Samples\", min_value=10, max_value=1000, value=100)\n",
    "\n",
    "def generate_pop(size=10000):\n",
    "    if population_type == \"Right Skewed\":\n",
    "        return np.random.exponential(scale=1.0, size=size)\n",
    "    if population_type == \"Left Skewed\":\n",
    "        return -np.random.exponential(scale=1.0, size=size)\n",
    "    if population_type == \"Uniform\":\n",
    "        return np.random.uniform(low=0.0, high=10.0, size=size)\n",
    "    if population_type == \"Normal\":\n",
    "        return np.random.normal(loc=0, scale=1.0, size=size)\n",
    "    \n",
    "population = generate_pop()\n",
    "\n",
    "sample_means = []\n",
    "for _ in range(num_samples):\n",
    "    sample_means.append(np.random.choice(population, size=sample_size).mean())\n",
    "\n",
    "fig, axs = plt.subplots(1,2, figsize=(12, 5))\n",
    "axs[0].hist(population, bins=30, color='#1db954', edgecolor='white', density=True)\n",
    "axs[0].set_title(\"Population Distribution\")\n",
    "sns.kdeplot(population, ax=axs[0], color='#b91d7a')\n",
    "\n",
    "axs[1].hist(sample_means, bins=30, color='#1db954', edgecolor='white', density=True)\n",
    "axs[1].set_title(\"Sampling Distribution of the Mean\")\n",
    "sns.kdeplot(sample_means, ax=axs[1], color='#b91d7a')\n",
    "\n",
    "\n",
    "for ax in axs:\n",
    "    ax.grid(axis='y', alpha=0.3)\n",
    "    ax.spines[['top', 'right', 'left']].set_visible(False)\n",
    "\n",
    "st.pyplot(fig)\n",
    "\n",
    "# summary stats\n",
    "st.write(\"**Population Mean:**\", np.round(np.mean(population), 2))\n",
    "st.write(\"**Mean of Sample Means:**\", np.round(np.mean(sample_means), 2))\n",
    "st.write(\"**Standard Error:**\", np.round(np.std(sample_means), 2))\n",
    "\n"
   ]
  }
 ],
 "metadata": {
  "kernelspec": {
   "display_name": "Python [conda env:base] *",
   "language": "python",
   "name": "conda-base-py"
  },
  "language_info": {
   "codemirror_mode": {
    "name": "ipython",
    "version": 3
   },
   "file_extension": ".py",
   "mimetype": "text/x-python",
   "name": "python",
   "nbconvert_exporter": "python",
   "pygments_lexer": "ipython3",
   "version": "3.12.7"
  }
 },
 "nbformat": 4,
 "nbformat_minor": 5
}
